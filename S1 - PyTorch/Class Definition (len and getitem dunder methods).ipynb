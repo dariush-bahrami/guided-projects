{
 "cells": [
  {
   "cell_type": "markdown",
   "id": "4362ef30-aea0-4311-bd9a-64815fb98088",
   "metadata": {},
   "source": [
    "Define a class which has following properties:\n",
    "1. Get a list of numbers and choose a random amount of it randomly and store it (hint: use random.choice)\n",
    "2. len function can be used on this class, return length of underlying stored data\n",
    "3. this class is subscriptable"
   ]
  },
  {
   "cell_type": "code",
   "execution_count": null,
   "id": "6d2c8642-9ac7-4086-85ea-1b6481f8d4f5",
   "metadata": {},
   "outputs": [],
   "source": []
  }
 ],
 "metadata": {
  "kernelspec": {
   "display_name": "Python 3 (ipykernel)",
   "language": "python",
   "name": "python3"
  },
  "language_info": {
   "codemirror_mode": {
    "name": "ipython",
    "version": 3
   },
   "file_extension": ".py",
   "mimetype": "text/x-python",
   "name": "python",
   "nbconvert_exporter": "python",
   "pygments_lexer": "ipython3",
   "version": "3.9.1"
  }
 },
 "nbformat": 4,
 "nbformat_minor": 5
}
