{
 "cells": [
  {
   "cell_type": "markdown",
   "id": "368075d7-2488-48d5-aeb3-bff0f0c49401",
   "metadata": {},
   "source": [
    "First Download MNIST data from:\n",
    "\n",
    "https://github.com/dariush-bahrami/guided-projects/raw/master/S1%20-%20PyTorch/mnist_train.zip\n",
    "\n",
    "This is a zipfile which contanis a csv files (train.csv)."
   ]
  },
  {
   "cell_type": "code",
   "execution_count": null,
   "id": "995add4c-b4bb-4b30-bb4f-0c4f503dace6",
   "metadata": {},
   "outputs": [],
   "source": []
  },
  {
   "cell_type": "markdown",
   "id": "eaf0d443-01be-4b91-be19-472e080e3f05",
   "metadata": {},
   "source": [
    "Extract this CSV file as pandas dataframe. \n",
    "Hint: \n",
    " * Use zipfile module\n",
    " * `dir` is your friend"
   ]
  },
  {
   "cell_type": "code",
   "execution_count": null,
   "id": "3eaff7d5-32e0-4710-98fa-18eb73ae6697",
   "metadata": {},
   "outputs": [],
   "source": []
  },
  {
   "cell_type": "markdown",
   "id": "5d8f5429-69b6-4c31-a1cb-fa8d80937a3d",
   "metadata": {},
   "source": [
    "define x and y dataframe from original dataframe"
   ]
  },
  {
   "cell_type": "code",
   "execution_count": null,
   "id": "48e4d8a2-fd30-4473-8fe7-d91d71870951",
   "metadata": {},
   "outputs": [],
   "source": []
  },
  {
   "cell_type": "markdown",
   "id": "9d0d8681-33ec-4d96-92c6-11d2844d1dd6",
   "metadata": {},
   "source": [
    "Implement a pytorch dataset. This class accept x_df and y_df and convert them to tensor in its __init__ method."
   ]
  },
  {
   "cell_type": "code",
   "execution_count": null,
   "id": "dba8e26c-e67b-4ecb-a349-25bab1f3ceb0",
   "metadata": {},
   "outputs": [],
   "source": []
  },
  {
   "cell_type": "markdown",
   "id": "215a5da0-18e6-46aa-b17f-7dd4b5007aff",
   "metadata": {},
   "source": [
    "Optional: Show a random image from your defined dataset:"
   ]
  },
  {
   "cell_type": "code",
   "execution_count": null,
   "id": "984f8f0a-edf1-489e-b05d-1a793bb8548c",
   "metadata": {},
   "outputs": [],
   "source": []
  }
 ],
 "metadata": {
  "kernelspec": {
   "display_name": "Python 3 (ipykernel)",
   "language": "python",
   "name": "python3"
  },
  "language_info": {
   "codemirror_mode": {
    "name": "ipython",
    "version": 3
   },
   "file_extension": ".py",
   "mimetype": "text/x-python",
   "name": "python",
   "nbconvert_exporter": "python",
   "pygments_lexer": "ipython3",
   "version": "3.9.1"
  }
 },
 "nbformat": 4,
 "nbformat_minor": 5
}
